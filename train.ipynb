{
 "cells": [
  {
   "cell_type": "code",
   "execution_count": 1,
   "id": "parental-admission",
   "metadata": {},
   "outputs": [],
   "source": [
    "# import the necessary packages\n",
    "from tensorflow.keras.preprocessing.image import ImageDataGenerator\n",
    "from tensorflow.keras.applications import MobileNetV2\n",
    "from tensorflow.keras.layers import AveragePooling2D\n",
    "from tensorflow.keras.layers import Dropout\n",
    "from tensorflow.keras.layers import Flatten\n",
    "from tensorflow.keras.layers import Dense\n",
    "from tensorflow.keras.layers import Input\n",
    "from tensorflow.keras.models import Model, load_model\n",
    "from tensorflow.keras.optimizers import Adam\n",
    "from tensorflow.keras.applications.mobilenet_v2 import preprocess_input\n",
    "from tensorflow.keras.preprocessing.image import img_to_array\n",
    "from tensorflow.keras.preprocessing.image import load_img\n",
    "from tensorflow.keras.utils import to_categorical\n",
    "from sklearn.preprocessing import LabelBinarizer\n",
    "from sklearn.model_selection import train_test_split\n",
    "from sklearn.metrics import classification_report\n",
    "import imutils\n",
    "from imutils import paths\n",
    "from imutils.video import VideoStream\n",
    "import matplotlib.pyplot as plt\n",
    "import numpy as np\n",
    "import time\n",
    "import os\n",
    "import cv2"
   ]
  },
  {
   "cell_type": "code",
   "execution_count": 2,
   "id": "capital-penalty",
   "metadata": {},
   "outputs": [],
   "source": [
    "INIT_LR = 1e-4\n",
    "EPOCHS = 20\n",
    "BS = 32"
   ]
  },
  {
   "cell_type": "code",
   "execution_count": 26,
   "id": "embedded-russell",
   "metadata": {},
   "outputs": [
    {
     "name": "stdout",
     "output_type": "stream",
     "text": [
      "[INFO] loading images...\n"
     ]
    },
    {
     "name": "stderr",
     "output_type": "stream",
     "text": [
      "c:\\users\\kabilan n\\appdata\\local\\programs\\python\\python39\\lib\\site-packages\\PIL\\Image.py:962: UserWarning: Palette images with Transparency expressed in bytes should be converted to RGBA images\n",
      "  warnings.warn(\n"
     ]
    }
   ],
   "source": [
    "print(\"[INFO] loading images...\")\n",
    "DATA_PATH = \"dataset\"\n",
    "imagePaths = list(paths.list_images(DATA_PATH))\n",
    "data = []\n",
    "labels = []\n",
    "\n",
    "for imagePath in imagePaths:\n",
    "\t# extract the class label from the filename\n",
    "\tlabel = imagePath.split(os.path.sep)[-2]\n",
    "\n",
    "\t# load the input image (224x224) and preprocess it\n",
    "\timage = load_img(imagePath, target_size=(224, 224))\n",
    "\timage = img_to_array(image)\n",
    "\timage = preprocess_input(image)\n",
    "\n",
    "\t# update the data and labels lists, respectively\n",
    "\tdata.append(image)\n",
    "\tlabels.append(label)\n",
    "\n",
    "# convert the data and labels to NumPy arrays\n",
    "data = np.array(data, dtype=\"float32\")\n",
    "labels = np.array(labels)\n"
   ]
  },
  {
   "cell_type": "code",
   "execution_count": 27,
   "id": "beautiful-familiar",
   "metadata": {},
   "outputs": [
    {
     "data": {
      "text/plain": [
       "array([[[[-0.94509804, -0.9764706 , -0.85882354],\n",
       "         [-0.94509804, -0.9764706 , -0.85882354],\n",
       "         [-0.94509804, -0.9764706 , -0.85882354],\n",
       "         ...,\n",
       "         [-0.8509804 , -0.90588236, -0.78039217],\n",
       "         [-0.8509804 , -0.90588236, -0.78039217],\n",
       "         [-0.84313726, -0.8980392 , -0.77254903]],\n",
       "\n",
       "        [[-0.9137255 , -0.94509804, -0.827451  ],\n",
       "         [-0.9137255 , -0.94509804, -0.827451  ],\n",
       "         [-0.9137255 , -0.94509804, -0.827451  ],\n",
       "         ...,\n",
       "         [-0.7490196 , -0.8039216 , -0.6784314 ],\n",
       "         [-0.7490196 , -0.8039216 , -0.6784314 ],\n",
       "         [-0.7411765 , -0.79607844, -0.67058825]],\n",
       "\n",
       "        [[-0.92156863, -0.9607843 , -0.8039216 ],\n",
       "         [-0.92156863, -0.9529412 , -0.81960785],\n",
       "         [-0.92156863, -0.9607843 , -0.8039216 ],\n",
       "         ...,\n",
       "         [-0.88235295, -0.8980392 , -0.7882353 ],\n",
       "         [-0.85882354, -0.8901961 , -0.77254903],\n",
       "         [-0.85882354, -0.8745098 , -0.7647059 ]],\n",
       "\n",
       "        ...,\n",
       "\n",
       "        [[ 0.38823533, -0.9607843 , -0.36470586],\n",
       "         [ 0.38823533, -0.9607843 , -0.3960784 ],\n",
       "         [ 0.37254906, -0.9529412 , -0.44313723],\n",
       "         ...,\n",
       "         [-1.        , -1.        , -1.        ],\n",
       "         [-1.        , -1.        , -1.        ],\n",
       "         [-1.        , -1.        , -1.        ]],\n",
       "\n",
       "        [[ 0.30196083, -0.9607843 , -0.42745095],\n",
       "         [ 0.27058828, -0.9764706 , -0.47450978],\n",
       "         [ 0.23921573, -0.9607843 , -0.5137255 ],\n",
       "         ...,\n",
       "         [-1.        , -1.        , -1.        ],\n",
       "         [-1.        , -1.        , -1.        ],\n",
       "         [-1.        , -1.        , -1.        ]],\n",
       "\n",
       "        [[ 0.27058828, -0.9529412 , -0.44313723],\n",
       "         [ 0.2313726 , -0.9764706 , -0.49019605],\n",
       "         [ 0.21568632, -0.96862745, -0.5372549 ],\n",
       "         ...,\n",
       "         [-1.        , -1.        , -1.        ],\n",
       "         [-1.        , -1.        , -1.        ],\n",
       "         [-1.        , -1.        , -1.        ]]],\n",
       "\n",
       "\n",
       "       [[[ 0.7882353 ,  0.654902  ,  0.7176471 ],\n",
       "         [ 0.7882353 ,  0.654902  ,  0.7176471 ],\n",
       "         [ 0.6862745 ,  0.5529412 ,  0.6156863 ],\n",
       "         ...,\n",
       "         [-0.34117645, -0.5058824 , -0.654902  ],\n",
       "         [-0.27843136, -0.45098037, -0.6156863 ],\n",
       "         [-0.27843136, -0.45098037, -0.6156863 ]],\n",
       "\n",
       "        [[ 0.7882353 ,  0.654902  ,  0.7176471 ],\n",
       "         [ 0.7882353 ,  0.654902  ,  0.7176471 ],\n",
       "         [ 0.6862745 ,  0.5529412 ,  0.6156863 ],\n",
       "         ...,\n",
       "         [-0.34117645, -0.5058824 , -0.654902  ],\n",
       "         [-0.27843136, -0.45098037, -0.6156863 ],\n",
       "         [-0.27843136, -0.45098037, -0.6156863 ]],\n",
       "\n",
       "        [[ 0.73333335,  0.6       ,  0.6627451 ],\n",
       "         [ 0.73333335,  0.6       ,  0.6627451 ],\n",
       "         [ 0.58431375,  0.45098042,  0.5137255 ],\n",
       "         ...,\n",
       "         [-0.4352941 , -0.6       , -0.7490196 ],\n",
       "         [-0.372549  , -0.54509807, -0.70980394],\n",
       "         [-0.372549  , -0.54509807, -0.70980394]],\n",
       "\n",
       "        ...,\n",
       "\n",
       "        [[ 0.1686275 , -0.31764704, -0.60784316],\n",
       "         [ 0.1686275 , -0.31764704, -0.60784316],\n",
       "         [ 0.19215691, -0.29411763, -0.58431375],\n",
       "         ...,\n",
       "         [ 0.28627455, -0.1372549 , -0.40392154],\n",
       "         [ 0.2941177 , -0.12941176, -0.3960784 ],\n",
       "         [ 0.2941177 , -0.12941176, -0.3960784 ]],\n",
       "\n",
       "        [[ 0.1686275 , -0.31764704, -0.60784316],\n",
       "         [ 0.1686275 , -0.31764704, -0.60784316],\n",
       "         [ 0.20000005, -0.2862745 , -0.5764706 ],\n",
       "         ...,\n",
       "         [ 0.3411765 , -0.08235294, -0.3490196 ],\n",
       "         [ 0.33333337, -0.09019607, -0.35686272],\n",
       "         [ 0.33333337, -0.09019607, -0.35686272]],\n",
       "\n",
       "        [[ 0.1686275 , -0.31764704, -0.60784316],\n",
       "         [ 0.1686275 , -0.31764704, -0.60784316],\n",
       "         [ 0.20000005, -0.2862745 , -0.5764706 ],\n",
       "         ...,\n",
       "         [ 0.3411765 , -0.08235294, -0.3490196 ],\n",
       "         [ 0.33333337, -0.09019607, -0.35686272],\n",
       "         [ 0.33333337, -0.09019607, -0.35686272]]],\n",
       "\n",
       "\n",
       "       [[[-0.75686276, -0.8980392 , -0.99215686],\n",
       "         [-0.7176471 , -0.85882354, -0.9529412 ],\n",
       "         [-0.7176471 , -0.85882354, -0.9529412 ],\n",
       "         ...,\n",
       "         [-0.77254903, -0.7647059 , -0.73333335],\n",
       "         [-0.77254903, -0.7647059 , -0.73333335],\n",
       "         [-0.77254903, -0.7647059 , -0.73333335]],\n",
       "\n",
       "        [[-0.75686276, -0.8980392 , -0.99215686],\n",
       "         [-0.7176471 , -0.85882354, -0.9529412 ],\n",
       "         [-0.7176471 , -0.85882354, -0.9529412 ],\n",
       "         ...,\n",
       "         [-0.77254903, -0.7647059 , -0.73333335],\n",
       "         [-0.77254903, -0.7647059 , -0.73333335],\n",
       "         [-0.77254903, -0.7647059 , -0.73333335]],\n",
       "\n",
       "        [[-0.7490196 , -0.8901961 , -0.9843137 ],\n",
       "         [-0.7176471 , -0.85882354, -0.9529412 ],\n",
       "         [-0.7176471 , -0.85882354, -0.9529412 ],\n",
       "         ...,\n",
       "         [-0.7647059 , -0.75686276, -0.7254902 ],\n",
       "         [-0.7647059 , -0.75686276, -0.7254902 ],\n",
       "         [-0.77254903, -0.7647059 , -0.73333335]],\n",
       "\n",
       "        ...,\n",
       "\n",
       "        [[ 0.6392157 ,  0.33333337,  0.09019613],\n",
       "         [ 0.6156863 ,  0.30980396,  0.06666672],\n",
       "         [ 0.6156863 ,  0.30980396,  0.06666672],\n",
       "         ...,\n",
       "         [ 0.75686276,  0.8901961 ,  0.7411765 ],\n",
       "         [ 0.75686276,  0.8901961 ,  0.7411765 ],\n",
       "         [ 0.7490196 ,  0.88235295,  0.73333335]],\n",
       "\n",
       "        [[ 0.67058825,  0.34901965,  0.12941182],\n",
       "         [ 0.64705884,  0.32549024,  0.10588241],\n",
       "         [ 0.64705884,  0.32549024,  0.10588241],\n",
       "         ...,\n",
       "         [ 0.7490196 ,  0.8901961 ,  0.7176471 ],\n",
       "         [ 0.7490196 ,  0.8901961 ,  0.7176471 ],\n",
       "         [ 0.77254903,  0.9137255 ,  0.7411765 ]],\n",
       "\n",
       "        [[ 0.67058825,  0.34901965,  0.12941182],\n",
       "         [ 0.64705884,  0.32549024,  0.10588241],\n",
       "         [ 0.64705884,  0.32549024,  0.10588241],\n",
       "         ...,\n",
       "         [ 0.7490196 ,  0.8901961 ,  0.7176471 ],\n",
       "         [ 0.7490196 ,  0.8901961 ,  0.7176471 ],\n",
       "         [ 0.77254903,  0.9137255 ,  0.7411765 ]]],\n",
       "\n",
       "\n",
       "       ...,\n",
       "\n",
       "\n",
       "       [[[-0.88235295, -0.9764706 , -0.94509804],\n",
       "         [-0.88235295, -0.9764706 , -0.94509804],\n",
       "         [-0.88235295, -0.9764706 , -0.94509804],\n",
       "         ...,\n",
       "         [-0.4352941 , -0.6627451 , -0.7882353 ],\n",
       "         [-0.4352941 , -0.6627451 , -0.7882353 ],\n",
       "         [-0.44313723, -0.67058825, -0.79607844]],\n",
       "\n",
       "        [[-0.8745098 , -0.96862745, -0.9372549 ],\n",
       "         [-0.8745098 , -0.96862745, -0.9372549 ],\n",
       "         [-0.8745098 , -0.96862745, -0.9372549 ],\n",
       "         ...,\n",
       "         [-0.45098037, -0.69411767, -0.8352941 ],\n",
       "         [-0.45098037, -0.69411767, -0.8352941 ],\n",
       "         [-0.46666664, -0.69411767, -0.81960785]],\n",
       "\n",
       "        [[-0.8745098 , -0.96862745, -0.9372549 ],\n",
       "         [-0.8745098 , -0.96862745, -0.9372549 ],\n",
       "         [-0.8745098 , -0.96862745, -0.9372549 ],\n",
       "         ...,\n",
       "         [-0.45098037, -0.69411767, -0.8352941 ],\n",
       "         [-0.45098037, -0.69411767, -0.8352941 ],\n",
       "         [-0.46666664, -0.69411767, -0.81960785]],\n",
       "\n",
       "        ...,\n",
       "\n",
       "        [[ 0.36470592,  0.5686275 ,  0.54509807],\n",
       "         [ 0.34901965,  0.54509807,  0.52156866],\n",
       "         [ 0.34901965,  0.54509807,  0.52156866],\n",
       "         ...,\n",
       "         [ 0.18431377,  0.10588241,  0.03529418],\n",
       "         [ 0.18431377,  0.10588241,  0.03529418],\n",
       "         [ 0.21568632,  0.11372554,  0.05098045]],\n",
       "\n",
       "        [[ 0.36470592,  0.5686275 ,  0.54509807],\n",
       "         [ 0.34901965,  0.54509807,  0.52156866],\n",
       "         [ 0.34901965,  0.54509807,  0.52156866],\n",
       "         ...,\n",
       "         [ 0.18431377,  0.10588241,  0.03529418],\n",
       "         [ 0.18431377,  0.10588241,  0.03529418],\n",
       "         [ 0.21568632,  0.11372554,  0.05098045]],\n",
       "\n",
       "        [[ 0.37254906,  0.5921569 ,  0.6       ],\n",
       "         [ 0.34901965,  0.5686275 ,  0.5764706 ],\n",
       "         [ 0.34901965,  0.5686275 ,  0.5764706 ],\n",
       "         ...,\n",
       "         [ 0.10588241,  0.03529418, -0.00392157],\n",
       "         [ 0.10588241,  0.03529418, -0.00392157],\n",
       "         [ 0.11372554,  0.04313731, -0.01176471]]],\n",
       "\n",
       "\n",
       "       [[[-0.81960785, -0.85882354, -0.8117647 ],\n",
       "         [-0.81960785, -0.85882354, -0.8117647 ],\n",
       "         [-0.81960785, -0.85882354, -0.8117647 ],\n",
       "         ...,\n",
       "         [-0.654902  , -0.8039216 , -0.7882353 ],\n",
       "         [-0.654902  , -0.8039216 , -0.7882353 ],\n",
       "         [-0.654902  , -0.8039216 , -0.7882353 ]],\n",
       "\n",
       "        [[-0.81960785, -0.85882354, -0.8117647 ],\n",
       "         [-0.81960785, -0.85882354, -0.8117647 ],\n",
       "         [-0.81960785, -0.85882354, -0.8117647 ],\n",
       "         ...,\n",
       "         [-0.654902  , -0.8039216 , -0.7882353 ],\n",
       "         [-0.654902  , -0.8039216 , -0.7882353 ],\n",
       "         [-0.654902  , -0.8039216 , -0.7882353 ]],\n",
       "\n",
       "        [[-0.81960785, -0.85882354, -0.8117647 ],\n",
       "         [-0.81960785, -0.85882354, -0.8117647 ],\n",
       "         [-0.81960785, -0.85882354, -0.8117647 ],\n",
       "         ...,\n",
       "         [-0.654902  , -0.8039216 , -0.7882353 ],\n",
       "         [-0.654902  , -0.8039216 , -0.7882353 ],\n",
       "         [-0.654902  , -0.8039216 , -0.7882353 ]],\n",
       "\n",
       "        ...,\n",
       "\n",
       "        [[-0.84313726, -0.8509804 , -0.8039216 ],\n",
       "         [-0.84313726, -0.8509804 , -0.8039216 ],\n",
       "         [-0.84313726, -0.8509804 , -0.8039216 ],\n",
       "         ...,\n",
       "         [-0.84313726, -0.8509804 , -0.8117647 ],\n",
       "         [-0.84313726, -0.8509804 , -0.8117647 ],\n",
       "         [-0.84313726, -0.8509804 , -0.8117647 ]],\n",
       "\n",
       "        [[-0.84313726, -0.8509804 , -0.8039216 ],\n",
       "         [-0.84313726, -0.8509804 , -0.8039216 ],\n",
       "         [-0.84313726, -0.8509804 , -0.8039216 ],\n",
       "         ...,\n",
       "         [-0.84313726, -0.8509804 , -0.8117647 ],\n",
       "         [-0.84313726, -0.8509804 , -0.8117647 ],\n",
       "         [-0.84313726, -0.8509804 , -0.8117647 ]],\n",
       "\n",
       "        [[-0.84313726, -0.8509804 , -0.8039216 ],\n",
       "         [-0.84313726, -0.8509804 , -0.8039216 ],\n",
       "         [-0.84313726, -0.8509804 , -0.8039216 ],\n",
       "         ...,\n",
       "         [-0.84313726, -0.8509804 , -0.8117647 ],\n",
       "         [-0.84313726, -0.8509804 , -0.8117647 ],\n",
       "         [-0.84313726, -0.8509804 , -0.8117647 ]]],\n",
       "\n",
       "\n",
       "       [[[-1.        ,  0.12941182,  0.48235297],\n",
       "         [-1.        ,  0.12941182,  0.48235297],\n",
       "         [-0.92156863,  0.16078436,  0.5294118 ],\n",
       "         ...,\n",
       "         [-1.        ,  0.00392163,  0.34901965],\n",
       "         [-1.        ,  0.02745104,  0.37254906],\n",
       "         [-1.        ,  0.02745104,  0.37254906]],\n",
       "\n",
       "        [[-1.        ,  0.12941182,  0.48235297],\n",
       "         [-1.        ,  0.12941182,  0.48235297],\n",
       "         [-0.92156863,  0.16078436,  0.5294118 ],\n",
       "         ...,\n",
       "         [-1.        ,  0.00392163,  0.34901965],\n",
       "         [-1.        ,  0.02745104,  0.37254906],\n",
       "         [-1.        ,  0.02745104,  0.37254906]],\n",
       "\n",
       "        [[-1.        ,  0.04313731,  0.41176474],\n",
       "         [-1.        ,  0.04313731,  0.41176474],\n",
       "         [-0.9607843 ,  0.10588241,  0.49803925],\n",
       "         ...,\n",
       "         [-1.        ,  0.09803927,  0.45098042],\n",
       "         [-0.99215686,  0.09019613,  0.45098042],\n",
       "         [-0.99215686,  0.09019613,  0.45098042]],\n",
       "\n",
       "        ...,\n",
       "\n",
       "        [[ 0.4901961 , -1.        , -0.654902  ],\n",
       "         [ 0.4901961 , -1.        , -0.654902  ],\n",
       "         [ 0.12156868, -1.        , -0.7882353 ],\n",
       "         ...,\n",
       "         [-0.32549018, -0.4588235 , -0.5372549 ],\n",
       "         [-0.3333333 , -0.46666664, -0.54509807],\n",
       "         [-0.3333333 , -0.46666664, -0.54509807]],\n",
       "\n",
       "        [[ 0.13725495, -1.        , -0.73333335],\n",
       "         [ 0.13725495, -1.        , -0.73333335],\n",
       "         [ 0.1686275 , -0.85882354, -0.5294118 ],\n",
       "         ...,\n",
       "         [-0.32549018, -0.46666664, -0.4823529 ],\n",
       "         [-0.34117645, -0.47450978, -0.5294118 ],\n",
       "         [-0.34117645, -0.47450978, -0.5294118 ]],\n",
       "\n",
       "        [[ 0.13725495, -1.        , -0.73333335],\n",
       "         [ 0.13725495, -1.        , -0.73333335],\n",
       "         [ 0.1686275 , -0.85882354, -0.5294118 ],\n",
       "         ...,\n",
       "         [-0.32549018, -0.46666664, -0.4823529 ],\n",
       "         [-0.34117645, -0.47450978, -0.5294118 ],\n",
       "         [-0.34117645, -0.47450978, -0.5294118 ]]]], dtype=float32)"
      ]
     },
     "execution_count": 27,
     "metadata": {},
     "output_type": "execute_result"
    }
   ],
   "source": [
    "data"
   ]
  },
  {
   "cell_type": "code",
   "execution_count": 28,
   "id": "ideal-sacramento",
   "metadata": {},
   "outputs": [],
   "source": [
    "lb = LabelBinarizer()\n",
    "labels = lb.fit_transform(labels)\n",
    "labels = to_categorical(labels)"
   ]
  },
  {
   "cell_type": "code",
   "execution_count": 29,
   "id": "governing-maximum",
   "metadata": {},
   "outputs": [],
   "source": [
    "(trainX, testX, trainY, testY) = train_test_split(data, labels,test_size=0.20, stratify=labels, random_state=42)"
   ]
  },
  {
   "cell_type": "code",
   "execution_count": 30,
   "id": "posted-extent",
   "metadata": {},
   "outputs": [],
   "source": [
    "aug = ImageDataGenerator(\n",
    "\trotation_range=20,\n",
    "\tzoom_range=0.15,\n",
    "\twidth_shift_range=0.2,\n",
    "\theight_shift_range=0.2,\n",
    "\tshear_range=0.15,\n",
    "\thorizontal_flip=True,\n",
    "\tfill_mode=\"nearest\")"
   ]
  },
  {
   "cell_type": "code",
   "execution_count": 31,
   "id": "hungarian-diagnosis",
   "metadata": {},
   "outputs": [
    {
     "name": "stdout",
     "output_type": "stream",
     "text": [
      "WARNING:tensorflow:`input_shape` is undefined or non-square, or `rows` is not in [96, 128, 160, 192, 224]. Weights for input shape (224, 224) will be loaded as the default.\n"
     ]
    }
   ],
   "source": [
    "baseModel = MobileNetV2(weights=\"imagenet\", include_top=False,input_tensor=Input(shape=(224, 224, 3)))\n"
   ]
  },
  {
   "cell_type": "code",
   "execution_count": 32,
   "id": "improving-indonesia",
   "metadata": {},
   "outputs": [],
   "source": [
    "headModel = baseModel.output\n",
    "headModel = AveragePooling2D(pool_size=(7, 7))(headModel)\n",
    "headModel = Flatten(name=\"flatten\")(headModel)\n",
    "headModel = Dense(128, activation=\"relu\")(headModel)\n",
    "headModel = Dropout(0.5)(headModel)\n",
    "headModel = Dense(2, activation=\"softmax\")(headModel)"
   ]
  },
  {
   "cell_type": "code",
   "execution_count": 33,
   "id": "stainless-input",
   "metadata": {},
   "outputs": [],
   "source": [
    "model = Model(inputs=baseModel.input, outputs=headModel)"
   ]
  },
  {
   "cell_type": "code",
   "execution_count": 34,
   "id": "greenhouse-special",
   "metadata": {},
   "outputs": [
    {
     "name": "stdout",
     "output_type": "stream",
     "text": [
      "[INFO] compiling model...\n"
     ]
    },
    {
     "name": "stderr",
     "output_type": "stream",
     "text": [
      "C:\\Users\\kabilan N\\AppData\\Roaming\\Python\\Python39\\site-packages\\tensorflow\\python\\keras\\optimizer_v2\\optimizer_v2.py:374: UserWarning: The `lr` argument is deprecated, use `learning_rate` instead.\n",
      "  warnings.warn(\n"
     ]
    }
   ],
   "source": [
    "for layer in baseModel.layers:\n",
    "    layer.trainable = False\n",
    "\n",
    "# compile our model\n",
    "print(\"[INFO] compiling model...\")\n",
    "opt = Adam(lr=INIT_LR, decay=INIT_LR / EPOCHS)\n",
    "model.compile(loss=\"binary_crossentropy\", optimizer=opt,metrics=[\"accuracy\"])"
   ]
  },
  {
   "cell_type": "code",
   "execution_count": 35,
   "id": "automatic-nigeria",
   "metadata": {},
   "outputs": [
    {
     "name": "stdout",
     "output_type": "stream",
     "text": [
      "[INFO] training head...\n",
      "Epoch 1/20\n",
      "102/102 [==============================] - 417s 4s/step - loss: 0.4388 - accuracy: 0.8328 - val_loss: 0.1828 - val_accuracy: 0.9744\n",
      "Epoch 2/20\n",
      "102/102 [==============================] - 178s 2s/step - loss: 0.1587 - accuracy: 0.9614 - val_loss: 0.1000 - val_accuracy: 0.9817\n",
      "Epoch 3/20\n",
      "102/102 [==============================] - 180s 2s/step - loss: 0.1113 - accuracy: 0.9695 - val_loss: 0.0775 - val_accuracy: 0.9829\n",
      "Epoch 4/20\n",
      "102/102 [==============================] - 178s 2s/step - loss: 0.0811 - accuracy: 0.9769 - val_loss: 0.0642 - val_accuracy: 0.9841\n",
      "Epoch 5/20\n",
      "102/102 [==============================] - 173s 2s/step - loss: 0.0747 - accuracy: 0.9793 - val_loss: 0.0578 - val_accuracy: 0.9853\n",
      "Epoch 6/20\n",
      "102/102 [==============================] - 173s 2s/step - loss: 0.0626 - accuracy: 0.9812 - val_loss: 0.0623 - val_accuracy: 0.9841\n",
      "Epoch 7/20\n",
      "102/102 [==============================] - 179s 2s/step - loss: 0.0575 - accuracy: 0.9824 - val_loss: 0.0543 - val_accuracy: 0.9866\n",
      "Epoch 8/20\n",
      "102/102 [==============================] - 185s 2s/step - loss: 0.0596 - accuracy: 0.9806 - val_loss: 0.0489 - val_accuracy: 0.9866\n",
      "Epoch 9/20\n",
      "102/102 [==============================] - 193s 2s/step - loss: 0.0479 - accuracy: 0.9867 - val_loss: 0.0453 - val_accuracy: 0.9878\n",
      "Epoch 10/20\n",
      "102/102 [==============================] - 207s 2s/step - loss: 0.0437 - accuracy: 0.9886 - val_loss: 0.0469 - val_accuracy: 0.9878\n",
      "Epoch 11/20\n",
      "102/102 [==============================] - 175s 2s/step - loss: 0.0495 - accuracy: 0.9846 - val_loss: 0.0431 - val_accuracy: 0.9878\n",
      "Epoch 12/20\n",
      "102/102 [==============================] - 144s 1s/step - loss: 0.0446 - accuracy: 0.9877 - val_loss: 0.0458 - val_accuracy: 0.9878\n",
      "Epoch 13/20\n",
      "102/102 [==============================] - 128s 1s/step - loss: 0.0414 - accuracy: 0.9877 - val_loss: 0.0443 - val_accuracy: 0.9878\n",
      "Epoch 14/20\n",
      "102/102 [==============================] - 126s 1s/step - loss: 0.0292 - accuracy: 0.9935 - val_loss: 0.0424 - val_accuracy: 0.9915\n",
      "Epoch 15/20\n",
      "102/102 [==============================] - 126s 1s/step - loss: 0.0414 - accuracy: 0.9867 - val_loss: 0.0412 - val_accuracy: 0.9890\n",
      "Epoch 16/20\n",
      "102/102 [==============================] - 127s 1s/step - loss: 0.0332 - accuracy: 0.9907 - val_loss: 0.0449 - val_accuracy: 0.9866\n",
      "Epoch 17/20\n",
      "102/102 [==============================] - 132s 1s/step - loss: 0.0285 - accuracy: 0.9923 - val_loss: 0.0432 - val_accuracy: 0.9902\n",
      "Epoch 18/20\n",
      "102/102 [==============================] - 129s 1s/step - loss: 0.0245 - accuracy: 0.9929 - val_loss: 0.0406 - val_accuracy: 0.9902\n",
      "Epoch 19/20\n",
      "102/102 [==============================] - 130s 1s/step - loss: 0.0274 - accuracy: 0.9926 - val_loss: 0.0426 - val_accuracy: 0.9915\n",
      "Epoch 20/20\n",
      "102/102 [==============================] - 127s 1s/step - loss: 0.0277 - accuracy: 0.9923 - val_loss: 0.0387 - val_accuracy: 0.9866\n"
     ]
    }
   ],
   "source": [
    "# train the head of the network\n",
    "print(\"[INFO] training head...\")\n",
    "H = model.fit(aug.flow(trainX, trainY, batch_size=BS),steps_per_epoch=len(trainX) // BS,validation_data=(testX, testY),validation_steps=len(testX) // BS,epochs=EPOCHS)"
   ]
  },
  {
   "cell_type": "code",
   "execution_count": 36,
   "id": "complex-while",
   "metadata": {},
   "outputs": [
    {
     "name": "stdout",
     "output_type": "stream",
     "text": [
      "[INFO] evaluating network...\n"
     ]
    }
   ],
   "source": [
    "print(\"[INFO] evaluating network...\")\n",
    "predIdxs = model.predict(testX, batch_size=BS)"
   ]
  },
  {
   "cell_type": "code",
   "execution_count": 37,
   "id": "architectural-assist",
   "metadata": {},
   "outputs": [
    {
     "name": "stdout",
     "output_type": "stream",
     "text": [
      "              precision    recall  f1-score   support\n",
      "\n",
      "   with_mask       0.99      0.99      0.99       433\n",
      "without_mask       0.98      0.99      0.99       386\n",
      "\n",
      "    accuracy                           0.99       819\n",
      "   macro avg       0.99      0.99      0.99       819\n",
      "weighted avg       0.99      0.99      0.99       819\n",
      "\n"
     ]
    }
   ],
   "source": [
    "predIdxs = np.argmax(predIdxs, axis=1)\n",
    "print(classification_report(testY.argmax(axis=1), predIdxs,target_names=lb.classes_))"
   ]
  },
  {
   "cell_type": "code",
   "execution_count": 44,
   "id": "stone-kingston",
   "metadata": {},
   "outputs": [
    {
     "name": "stdout",
     "output_type": "stream",
     "text": [
      "[INFO] saving mask detector model...\n"
     ]
    }
   ],
   "source": [
    "print(\"[INFO] saving mask detector model...\")\n",
    "model.save(\"model\", save_format=\"h5\")"
   ]
  },
  {
   "cell_type": "code",
   "execution_count": 42,
   "id": "shared-console",
   "metadata": {},
   "outputs": [
    {
     "name": "stderr",
     "output_type": "stream",
     "text": [
      "C:\\Users\\kabilan N\\AppData\\Roaming\\Python\\Python39\\site-packages\\tensorflow\\python\\keras\\utils\\generic_utils.py:494: CustomMaskWarning: Custom mask layers require a config and must override get_config. When loading, the custom mask layer must be passed to the custom_objects argument.\n",
      "  warnings.warn('Custom mask layers require a config and must override '\n"
     ]
    }
   ],
   "source": [
    "import tensorflow as tf\n",
    "tf.keras.models.save_model(model,'mask_det.hdf5')"
   ]
  },
  {
   "cell_type": "code",
   "execution_count": 46,
   "id": "charged-ferry",
   "metadata": {},
   "outputs": [
    {
     "data": {
      "image/png": "[encoded data removed]",
      "text/plain": [
       "<Figure size 432x288 with 1 Axes>"
      ]
     },
     "metadata": {},
     "output_type": "display_data"
    }
   ],
   "source": [
    "# plot the training loss and accuracy\n",
    "N = EPOCHS\n",
    "plt.style.use(\"ggplot\")\n",
    "plt.figure()\n",
    "plt.plot(np.arange(0, N), H.history[\"loss\"], label=\"train_loss\")\n",
    "plt.plot(np.arange(0, N), H.history[\"val_loss\"], label=\"val_loss\")\n",
    "plt.plot(np.arange(0, N), H.history[\"accuracy\"], label=\"train_acc\")\n",
    "plt.plot(np.arange(0, N), H.history[\"val_accuracy\"], label=\"val_acc\")\n",
    "plt.title(\"Training Loss and Accuracy\")\n",
    "plt.xlabel(\"Epoch #\")\n",
    "plt.ylabel(\"Loss/Accuracy\")\n",
    "plt.legend(loc=\"lower left\")\n",
    "plt.savefig(\"plot\")"
   ]
  }
 ],
 "metadata": {
  "kernelspec": {
   "display_name": "Python 3",
   "language": "python",
   "name": "python3"
  },
  "language_info": {
   "codemirror_mode": {
    "name": "ipython",
    "version": 3
   },
   "file_extension": ".py",
   "mimetype": "text/x-python",
   "name": "python",
   "nbconvert_exporter": "python",
   "pygments_lexer": "ipython3",
   "version": "3.9.1"
  }
 },
 "nbformat": 4,
 "nbformat_minor": 5
}
