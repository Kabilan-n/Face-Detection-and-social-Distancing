{
 "cells": [
  {
   "cell_type": "code",
   "execution_count": 12,
   "id": "parental-admission",
   "metadata": {},
   "outputs": [],
   "source": [
    "# import the necessary packages\n",
    "from tensorflow.keras.preprocessing.image import img_to_array\n",
    "from tensorflow.keras.models import load_model\n",
    "from tensorflow.keras.applications.mobilenet_v2 import preprocess_input\n",
    "import numpy as np\n",
    "import time\n",
    "from scipy.spatial import distance as dist\n",
    "import os\n",
    "import cv2"
   ]
  },
  {
   "cell_type": "markdown",
   "id": "40c20c74-6177-40d6-921d-a848d9af4b52",
   "metadata": {},
   "source": [
    "Using Trained model to Predict MASK"
   ]
  },
  {
   "cell_type": "code",
   "execution_count": 13,
   "id": "assigned-violence",
   "metadata": {},
   "outputs": [],
   "source": [
    "def detect_and_predict_mask(frame, faceNet, maskNet):\n",
    "    # grab the dimensions of the frame and then construct a blob\n",
    "    # from it\n",
    "    (h, w) = frame.shape[:2]\n",
    "    blob = cv2.dnn.blobFromImage(frame, 1.0, (300, 300),\n",
    "        (104.0, 177.0, 123.0))\n",
    "\n",
    "    # pass the blob through the network and obtain the face detections\n",
    "    faceNet.setInput(blob)\n",
    "    detections = faceNet.forward()\n",
    "\n",
    "    # initialize our list of faces, their corresponding locations,\n",
    "    # and the list of predictions from our face mask network\n",
    "    faces = []\n",
    "    locs = []\n",
    "    preds = []\n",
    "\n",
    "    # loop over the detections\n",
    "    for i in range(0, detections.shape[2]):\n",
    "        # extract the confidence (i.e., probability) associated with\n",
    "        # the detection\n",
    "        confidence = detections[0, 0, i, 2]\n",
    "\n",
    "        # filter out weak detections by ensuring the confidence is\n",
    "        # greater than the minimum confidence\n",
    "        if confidence > 0.6:\n",
    "            # compute the (x, y)-coordinates of the bounding box for\n",
    "            # the object\n",
    "            box = detections[0, 0, i, 3:7] * np.array([w, h, w, h])\n",
    "            (startX, startY, endX, endY) = box.astype(\"int\")\n",
    "\n",
    "            # ensure the bounding boxes fall within the dimensions of\n",
    "            # the frame\n",
    "            (startX, startY) = (max(0, startX), max(0, startY))\n",
    "            (endX, endY) = (min(w - 1, endX), min(h - 1, endY))\n",
    "\n",
    "            # extract the face ROI, convert it from BGR to RGB channel\n",
    "            # ordering, resize it to 224x224, and preprocess it\n",
    "            face = frame[startY:endY, startX:endX]\n",
    "            if face.any():\n",
    "                face = cv2.cvtColor(face, cv2.COLOR_BGR2RGB)\n",
    "                face = cv2.resize(face, (224, 224))\n",
    "                face = img_to_array(face)\n",
    "                face = preprocess_input(face)\n",
    "\n",
    "                # add the face and bounding boxes to their respective\n",
    "                # lists\n",
    "                faces.append(face)\n",
    "                locs.append((startX, startY, endX, endY))\n",
    "\n",
    "    # only make a predictions if at least one face was detected\n",
    "    if len(faces) > 0:\n",
    "        # for faster inference we'll make batch predictions on *all*\n",
    "        # faces at the same time rather than one-by-one predictions\n",
    "        # in the above `for` loop\n",
    "        faces = np.array(faces, dtype=\"float32\")\n",
    "        preds = maskNet.predict(faces, batch_size=32)\n",
    "\n",
    "    # return a 2-tuple of the face locations and their corresponding\n",
    "    # locations\n",
    "    return (locs, preds)\n"
   ]
  },
  {
   "cell_type": "markdown",
   "id": "b336ba10-4d0b-4cb1-a713-295ffa490d2b",
   "metadata": {},
   "source": [
    "Loading Facenet Model Using pre-trained weights"
   ]
  },
  {
   "cell_type": "code",
   "execution_count": 14,
   "id": "satellite-strand",
   "metadata": {},
   "outputs": [
    {
     "name": "stdout",
     "output_type": "stream",
     "text": [
      "[INFO] loading face detector model...\n"
     ]
    }
   ],
   "source": [
    "print(\"[INFO] loading face detector model...\")\n",
    "prototxtPath = \"MASK\\deploy.prototxt.txt\"\n",
    "weightsPath = \"MASK\\Res10_300x300_ssd_iter_140000.caffemodel\"\n",
    "faceNet = cv2.dnn.readNet(prototxtPath, weightsPath)\n"
   ]
  },
  {
   "cell_type": "markdown",
   "id": "dc8598d9-e717-4b46-b0e5-da6416915d24",
   "metadata": {},
   "source": [
    "### Loading MaskNet model trained using train_mask_detector.ipynb"
   ]
  },
  {
   "cell_type": "code",
   "execution_count": 15,
   "id": "minor-allocation",
   "metadata": {},
   "outputs": [
    {
     "name": "stdout",
     "output_type": "stream",
     "text": [
      "[INFO] loading face mask detector model...\n"
     ]
    }
   ],
   "source": [
    "print(\"[INFO] loading face mask detector model...\")\n",
    "maskNet = load_model('MASK/mask_det.hdf5')"
   ]
  },
  {
   "cell_type": "markdown",
   "id": "1c55f6c9-c886-4331-9476-4b8dfa8d7a20",
   "metadata": {},
   "source": [
    "Distance b/w people"
   ]
  },
  {
   "cell_type": "code",
   "execution_count": 16,
   "id": "b1bf968c-e254-4cdd-b7b4-e2bce0766eeb",
   "metadata": {},
   "outputs": [],
   "source": [
    "thres=100"
   ]
  },
  {
   "cell_type": "code",
   "execution_count": 19,
   "id": "096c5761-5df6-43ad-a0ae-e57d34b151d8",
   "metadata": {},
   "outputs": [],
   "source": [
    "def find_centroids(locs):\n",
    "    cent=[]\n",
    "    for i,box in enumerate(locs):\n",
    "        # unpack the bounding box and predictions\n",
    "        startX, startY, endX, endY=box\n",
    "        centx,centy=(startX+((endX-startX)/2)),(startY-((startY-endY)/2))\n",
    "        cent.append((centx,centy))\n",
    "        \n",
    "    return cent"
   ]
  },
  {
   "cell_type": "code",
   "execution_count": 27,
   "id": "726fec0e-0caf-46fb-a433-82fed17f725f",
   "metadata": {},
   "outputs": [],
   "source": [
    "def violating_points(cent):\n",
    "    Dist = dist.cdist(cent, cent, metric=\"euclidean\")\n",
    "    voilate=set()\n",
    "    #     print(Dist)\n",
    "    for i in range(0,Dist.shape[0]):\n",
    "        for j in range(i+1,Dist.shape[1]):\n",
    "    #       thres = cv2.getTrackbarPos(\"Threshold1\",\"Parameters\")\n",
    "            if (Dist[i][j]) < int(thres):\n",
    "                voilate.add(i)\n",
    "                voilate.add(j)\n",
    "    #     print(voilate)\n",
    "    return voilate"
   ]
  },
  {
   "cell_type": "markdown",
   "id": "2037c8f8-6a9a-46cb-8ce2-c4bbb663e155",
   "metadata": {},
   "source": [
    "STREAMING VIDEO WITH MASK DETECTION AND DISTANCE MEASUREMENT"
   ]
  },
  {
   "cell_type": "code",
   "execution_count": 56,
   "id": "lyric-poison",
   "metadata": {},
   "outputs": [
    {
     "name": "stdout",
     "output_type": "stream",
     "text": [
      "[INFO] starting video stream...\n"
     ]
    }
   ],
   "source": [
    "print(\"[INFO] starting video stream...\")\n",
    "vs = cv2.VideoCapture(\"test/bs1.mp4\") \n",
    "# vs = cv2.VideoCapture(0)# for direct cam\n",
    "# time.sleep(1.0)\n",
    "# vs = cv2.VideoCapture(\"\")  # For video uncomment it\n",
    "pTime =0\n",
    "cTime=0\n",
    "cent=[]\n",
    "# loop over the frames from the video stream\n",
    "while True:\n",
    "    # grab the frame from the threaded video stream and resize it\n",
    "    # to have a maximum width of 400 pixels\n",
    "    cent=[]\n",
    "    # grab the frame from the threaded video stream and resize it\n",
    "    # to have a maximum width of 400 pixels\n",
    "    \n",
    "    (grabbed, frame) = vs.read() #For video uncomment it  or direct cam\n",
    "\n",
    "    \n",
    "#     frame= cv2.imread(\"test/p7.jpg\") # For image uncomment it\n",
    "    frame = cv2.resize(frame, (600,600))\n",
    "\n",
    "\n",
    "    # detect faces in the frame and determine if they are wearing a\n",
    "    # face mask or not\n",
    "    (locs, preds) = detect_and_predict_mask(frame, faceNet, maskNet)\n",
    "    \n",
    "    \n",
    "    #Finding distance if there are more than 1 people\n",
    "    if(len(locs)>=1):\n",
    "        \n",
    "        #Finding the Centriods b/w people\n",
    "        cent =find_centroids(locs)\n",
    "        # loop over the detected face locations and their corresponding\n",
    "        # locations\n",
    "\n",
    "        #Finding the voilating locations \n",
    "        voilate = violating_points(cent)\n",
    "\n",
    "        red=[0,0,255]\n",
    "        green =[0,255,0]    \n",
    "        distance=\"Not Near\"\n",
    "        #For distance\n",
    "        for (i,(box,cen)) in enumerate(zip(locs,cent)):\n",
    "            # unpack the bounding box and predictions\n",
    "            color=green\n",
    "            startX, startY, endX, endY=box\n",
    "            (cx,cy) = cen\n",
    "    #         print(i)\n",
    "    #         print(i in voilate)\n",
    "            if(i in voilate):\n",
    "                color = red\n",
    "                distance=\"Near\"\n",
    "            g=6\n",
    "            cv2.rectangle(frame, (startX+g, startY-g), (endX-g, endY+g), color, 2)\n",
    "            cv2.circle(frame, (int(cx), int(cy)), 4, color, 3)\n",
    "            cv2.putText(frame, distance, (endX-30, endY + 20),cv2.FONT_HERSHEY_SIMPLEX, 0.45, color, 2)\n",
    "\n",
    "    \n",
    "    #For Mask\n",
    "    # loop over the detected face locations and their corresponding\n",
    "    # locations\n",
    "    for (box, pred) in zip(locs, preds):\n",
    "        # unpack the bounding box and predictions\n",
    "        (startX, startY, endX, endY) = box\n",
    "        (mask, withoutMask) = pred\n",
    "\n",
    "        # determine the class label and color we'll use to draw\n",
    "        # the bounding box and text\n",
    "        label = \"Mask\" if mask > withoutMask else \"No Mask\"\n",
    "        color = (0, 255, 0) if label == \"Mask\" else (0, 0, 255)\n",
    "            \n",
    "        # include the probability in the label\n",
    "        label = \"{} \".format(label)\n",
    "\n",
    "        # display the label and bounding box rectangle on the output\n",
    "        # frame\n",
    "        cv2.putText(frame, label, (startX, startY - 10),\n",
    "            cv2.FONT_HERSHEY_SIMPLEX, 0.45, color, 2)\n",
    "        cv2.rectangle(frame, (startX, startY), (endX, endY), color, 2)\n",
    "    \n",
    "    \n",
    "    # Find FPS\n",
    "    cTime=time.time()\n",
    "    fps=1/(cTime-pTime)\n",
    "    pTime=cTime\n",
    "    cv2.putText(frame,str(int(fps)),(10,70),cv2.FONT_ITALIC,2,(255,0,255),3)\n",
    "    # show the output frame\n",
    "#     cv2.startWindowThread()\n",
    "    cv2.namedWindow(\"Frame\")\n",
    "    cv2.imshow(\"Frame\", frame)\n",
    "    key = cv2.waitKey(1) & 0xFF\n",
    "\n",
    "    # if the `q` key was pressed, break from the loop\n",
    "    if key == ord(\"q\"):\n",
    "        break\n",
    "        \n",
    "cv2.destroyAllWindows()"
   ]
  },
  {
   "cell_type": "code",
   "execution_count": 33,
   "id": "checked-climate",
   "metadata": {},
   "outputs": [
    {
     "ename": "AttributeError",
     "evalue": "'cv2.VideoCapture' object has no attribute 'stop'",
     "output_type": "error",
     "traceback": [
      "\u001b[1;31m---------------------------------------------------------------------------\u001b[0m",
      "\u001b[1;31mAttributeError\u001b[0m                            Traceback (most recent call last)",
      "\u001b[1;32m<ipython-input-33-adc9802d00e5>\u001b[0m in \u001b[0;36m<module>\u001b[1;34m\u001b[0m\n\u001b[0;32m      1\u001b[0m \u001b[0mcv2\u001b[0m\u001b[1;33m.\u001b[0m\u001b[0mdestroyAllWindows\u001b[0m\u001b[1;33m(\u001b[0m\u001b[1;33m)\u001b[0m\u001b[1;33m\u001b[0m\u001b[1;33m\u001b[0m\u001b[0m\n\u001b[1;32m----> 2\u001b[1;33m \u001b[0mvs\u001b[0m\u001b[1;33m.\u001b[0m\u001b[0mstop\u001b[0m\u001b[1;33m(\u001b[0m\u001b[1;33m)\u001b[0m\u001b[1;33m\u001b[0m\u001b[1;33m\u001b[0m\u001b[0m\n\u001b[0m",
      "\u001b[1;31mAttributeError\u001b[0m: 'cv2.VideoCapture' object has no attribute 'stop'"
     ]
    }
   ],
   "source": [
    "cv2.destroyAllWindows()\n",
    "vs.stop()"
   ]
  },
  {
   "cell_type": "code",
   "execution_count": null,
   "id": "norman-banana",
   "metadata": {},
   "outputs": [],
   "source": []
  }
 ],
 "metadata": {
  "kernelspec": {
   "display_name": "Python 3",
   "language": "python",
   "name": "python3"
  },
  "language_info": {
   "codemirror_mode": {
    "name": "ipython",
    "version": 3
   },
   "file_extension": ".py",
   "mimetype": "text/x-python",
   "name": "python",
   "nbconvert_exporter": "python",
   "pygments_lexer": "ipython3",
   "version": "3.8.8"
  }
 },
 "nbformat": 4,
 "nbformat_minor": 5
}
